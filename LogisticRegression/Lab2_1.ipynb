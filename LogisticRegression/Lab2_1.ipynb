{
  "nbformat": 4,
  "nbformat_minor": 0,
  "metadata": {
    "colab": {
      "provenance": [],
      "authorship_tag": "ABX9TyMzl9yiaLa93Udf2/kn/7//",
      "include_colab_link": true
    },
    "kernelspec": {
      "name": "python3",
      "display_name": "Python 3"
    },
    "language_info": {
      "name": "python"
    }
  },
  "cells": [
    {
      "cell_type": "markdown",
      "metadata": {
        "id": "view-in-github",
        "colab_type": "text"
      },
      "source": [
        "<a href=\"https://colab.research.google.com/github/keshavkarthik05/Machine-Learning/blob/main/LogisticRegression/Lab2_1.ipynb\" target=\"_parent\"><img src=\"https://colab.research.google.com/assets/colab-badge.svg\" alt=\"Open In Colab\"/></a>"
      ]
    },
    {
      "cell_type": "code",
      "execution_count": 3,
      "metadata": {
        "colab": {
          "base_uri": "https://localhost:8080/"
        },
        "id": "HCuCgKwd5J9A",
        "outputId": "a426de89-cd7a-45a3-d926-b080b956bc17"
      },
      "outputs": [
        {
          "output_type": "stream",
          "name": "stdout",
          "text": [
            "   admit    gre   gpa  rank\n",
            "0    0.0  380.0  3.61   3.0\n",
            "1    1.0  660.0  3.67   3.0\n",
            "2    1.0  800.0  4.00   1.0\n",
            "3    1.0  640.0  3.19   4.0\n",
            "4    0.0  520.0  2.93   4.0\n"
          ]
        }
      ],
      "source": [
        "df = pd.read_stata(\"https://stats.idre.ucla.edu/stat/stata/dae/binary.dta\")\n",
        "print(df.head())"
      ]
    },
    {
      "cell_type": "code",
      "source": [
        "df.isnull().sum()"
      ],
      "metadata": {
        "colab": {
          "base_uri": "https://localhost:8080/",
          "height": 209
        },
        "id": "KVHW3DiM6IKz",
        "outputId": "020bb83e-ea4b-4ebe-859c-c6c209ed8b19"
      },
      "execution_count": 4,
      "outputs": [
        {
          "output_type": "execute_result",
          "data": {
            "text/plain": [
              "admit    0\n",
              "gre      0\n",
              "gpa      0\n",
              "rank     0\n",
              "dtype: int64"
            ],
            "text/html": [
              "<div>\n",
              "<style scoped>\n",
              "    .dataframe tbody tr th:only-of-type {\n",
              "        vertical-align: middle;\n",
              "    }\n",
              "\n",
              "    .dataframe tbody tr th {\n",
              "        vertical-align: top;\n",
              "    }\n",
              "\n",
              "    .dataframe thead th {\n",
              "        text-align: right;\n",
              "    }\n",
              "</style>\n",
              "<table border=\"1\" class=\"dataframe\">\n",
              "  <thead>\n",
              "    <tr style=\"text-align: right;\">\n",
              "      <th></th>\n",
              "      <th>0</th>\n",
              "    </tr>\n",
              "  </thead>\n",
              "  <tbody>\n",
              "    <tr>\n",
              "      <th>admit</th>\n",
              "      <td>0</td>\n",
              "    </tr>\n",
              "    <tr>\n",
              "      <th>gre</th>\n",
              "      <td>0</td>\n",
              "    </tr>\n",
              "    <tr>\n",
              "      <th>gpa</th>\n",
              "      <td>0</td>\n",
              "    </tr>\n",
              "    <tr>\n",
              "      <th>rank</th>\n",
              "      <td>0</td>\n",
              "    </tr>\n",
              "  </tbody>\n",
              "</table>\n",
              "</div><br><label><b>dtype:</b> int64</label>"
            ]
          },
          "metadata": {},
          "execution_count": 4
        }
      ]
    },
    {
      "cell_type": "code",
      "source": [
        "print(df.info())\n",
        "print(df.describe())\n",
        "print(df['admit'].value_counts())\n",
        "print(df['rank'].value_counts())"
      ],
      "metadata": {
        "colab": {
          "base_uri": "https://localhost:8080/"
        },
        "id": "nWBNgDKT6NlR",
        "outputId": "3bb21ab0-5c76-41af-920f-04aca69fb496"
      },
      "execution_count": 5,
      "outputs": [
        {
          "output_type": "stream",
          "name": "stdout",
          "text": [
            "<class 'pandas.core.frame.DataFrame'>\n",
            "RangeIndex: 400 entries, 0 to 399\n",
            "Data columns (total 4 columns):\n",
            " #   Column  Non-Null Count  Dtype  \n",
            "---  ------  --------------  -----  \n",
            " 0   admit   400 non-null    float32\n",
            " 1   gre     400 non-null    float32\n",
            " 2   gpa     400 non-null    float32\n",
            " 3   rank    400 non-null    float32\n",
            "dtypes: float32(4)\n",
            "memory usage: 6.4 KB\n",
            "None\n",
            "            admit         gre         gpa        rank\n",
            "count  400.000000  400.000000  400.000000  400.000000\n",
            "mean     0.317500  587.700012    3.389900    2.485000\n",
            "std      0.466087  115.516663    0.380567    0.944462\n",
            "min      0.000000  220.000000    2.260000    1.000000\n",
            "25%      0.000000  520.000000    3.130000    2.000000\n",
            "50%      0.000000  580.000000    3.395000    2.000000\n",
            "75%      1.000000  660.000000    3.670000    3.000000\n",
            "max      1.000000  800.000000    4.000000    4.000000\n",
            "admit\n",
            "0.0    273\n",
            "1.0    127\n",
            "Name: count, dtype: int64\n",
            "rank\n",
            "2.0    151\n",
            "3.0    121\n",
            "4.0     67\n",
            "1.0     61\n",
            "Name: count, dtype: int64\n"
          ]
        }
      ]
    },
    {
      "cell_type": "code",
      "source": [
        "import statsmodels.api as sm\n",
        "X = df[['gre', 'gpa']]\n",
        "X = sm.add_constant(X)\n",
        "y = df['admit']\n",
        "\n",
        "model = sm.Logit(y, X)\n",
        "result = model.fit()\n",
        "\n",
        "print(result.summary())"
      ],
      "metadata": {
        "colab": {
          "base_uri": "https://localhost:8080/"
        },
        "id": "iANsf9_m6Wcu",
        "outputId": "dd338e75-09a4-4cc1-b067-4099ffe08138"
      },
      "execution_count": 15,
      "outputs": [
        {
          "output_type": "stream",
          "name": "stdout",
          "text": [
            "Optimization terminated successfully.\n",
            "         Current function value: 0.600430\n",
            "         Iterations 5\n",
            "                           Logit Regression Results                           \n",
            "==============================================================================\n",
            "Dep. Variable:                  admit   No. Observations:                  400\n",
            "Model:                          Logit   Df Residuals:                      397\n",
            "Method:                           MLE   Df Model:                            2\n",
            "Date:                Tue, 22 Jul 2025   Pseudo R-squ.:                 0.03927\n",
            "Time:                        16:18:24   Log-Likelihood:                -240.17\n",
            "converged:                       True   LL-Null:                       -249.99\n",
            "Covariance Type:            nonrobust   LLR p-value:                 5.456e-05\n",
            "==============================================================================\n",
            "                 coef    std err          z      P>|z|      [0.025      0.975]\n",
            "------------------------------------------------------------------------------\n",
            "const         -4.9494      1.075     -4.604      0.000      -7.057      -2.842\n",
            "gre            0.0027      0.001      2.544      0.011       0.001       0.005\n",
            "gpa            0.7547      0.320      2.361      0.018       0.128       1.381\n",
            "==============================================================================\n"
          ]
        }
      ]
    }
  ]
}